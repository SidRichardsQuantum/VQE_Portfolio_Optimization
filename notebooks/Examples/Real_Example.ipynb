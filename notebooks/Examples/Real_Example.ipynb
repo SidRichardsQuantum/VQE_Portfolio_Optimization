{
 "cells": [
  {
   "cell_type": "markdown",
   "id": "7af4ffed",
   "metadata": {},
   "source": [
    "## Real Stock Portfolio Optimization (VQE - Fractional Ansatz)\n",
    "\n",
    "This example notebook uses a **Variational Quantum Eigensolver (VQE)** with a **fractional ansatz** to optimize a portfolio of real stocks (AAPL, MSFT, GOOGL, AMZN).\n",
    "\n",
    "### Key Highlights:\n",
    "\n",
    "- **Live data** from Yahoo Finance (`yfinance`)\n",
    "- **Fractional weights** encoded via RY rotations:  \n",
    "  $w_i = \\sin^2(θ_i / 2)$\n",
    "- **Cost function** balances return, risk, and budget constraint:\n",
    "  $\\text{Cost} = -μ^T w + q \\cdot w^T Σ w + \\text{penalty}$\n",
    "- **Outputs**: Final weights, convergence plot, bar and pie charts.\n",
    "\n",
    "This example shows how quantum circuits can solve real-world finance problems using hybrid quantum-classical methods."
   ]
  },
  {
   "cell_type": "code",
   "execution_count": null,
   "id": "9ae3e32d",
   "metadata": {},
   "outputs": [],
   "source": [
    "import pennylane as qml\n",
    "from pennylane import numpy as np\n",
    "import matplotlib.pyplot as plt\n",
    "\n",
    "from pathlib import Path\n",
    "import sys\n",
    "repo_root = Path(__file__).resolve().parents[2] if \"__file__\" in globals() else Path.cwd().parents[1]\n",
    "sys.path.insert(0, str(repo_root))\n",
    "from Real_Stock_Data import get_stock_data\n",
    "\n",
    "np.random.seed(0)"
   ]
  },
  {
   "cell_type": "code",
   "execution_count": null,
   "id": "abaf0524",
   "metadata": {},
   "outputs": [],
   "source": [
    "# Problem setup\n",
    "q = 0.5  # Risk aversion parameter\n",
    "tickers = [\"AAPL\",\"MSFT\",\"GOOGL\",\"AMZN\"]\n",
    "mu, Sigma, prices = get_stock_data(tickers, start=\"2023-01-01\", end=\"2024-01-01\")\n",
    "n = len(tickers)\n",
    "\n",
    "# Quantum device and QNode\n",
    "dev = qml.device(\"default.qubit\", wires=n, shots=None)\n",
    "\n",
    "@qml.qnode(dev, interface=\"autograd\")\n",
    "def qnode(thetas):\n",
    "    # Hardware-efficient R_Y rotations (one per asset)\n",
    "    for i in range(n):\n",
    "        qml.RY(thetas[i], wires=i)\n",
    "\n",
    "    # Return ⟨Z⟩ for each qubit\n",
    "    return [qml.expval(qml.PauliZ(i)) for i in range(n)]\n",
    "\n",
    "def angles_to_weights(thetas):\n",
    "    # Map ⟨Z⟩ → fractional weights w_i = (1−⟨Z_i⟩)/2 and normalize\n",
    "    z = qml.math.stack(qnode(thetas))\n",
    "    w = (1.0 - z) * 0.5\n",
    "    s = qml.math.sum(w)\n",
    "    return w / (s + 1e-12)\n",
    "\n",
    "def scaled_penalty(mu, Sigma):\n",
    "    # Scale penalties to objective magnitude\n",
    "    base = max(float(np.sum(np.abs(mu))), float(np.trace(Sigma)), 1e-3)\n",
    "    return 50.0 * base\n",
    "\n",
    "def objective(thetas):\n",
    "    w = angles_to_weights(thetas)\n",
    "    ret = qml.math.dot(mu, w)\n",
    "    risk = qml.math.dot(w, qml.math.dot(Sigma, w))\n",
    "    p_sum = scaled_penalty(mu, Sigma)\n",
    "    c_sum = p_sum * (qml.math.sum(w) - 1.0) ** 2  # Budget Σw=1\n",
    "    return -(ret) + q * risk + c_sum\n",
    "\n",
    "# Optimize\n",
    "thetas = np.array(np.random.uniform(0, np.pi, n), requires_grad=True)\n",
    "opt = qml.AdamOptimizer(stepsize=0.3)\n",
    "steps = 75\n",
    "hist = []\n",
    "\n",
    "for t in range(steps):\n",
    "    thetas, cost = opt.step_and_cost(objective, thetas)\n",
    "    if (t+1) % 5 == 0:\n",
    "        hist.append(float(cost))\n",
    "\n",
    "w_opt = angles_to_weights(thetas)\n",
    "w_opt = w_opt / (np.sum(w_opt) + 1e-12)\n",
    "\n",
    "# Convergence plot\n",
    "plt.figure()\n",
    "plt.plot(range(5, steps+1, 5), hist)\n",
    "plt.xlabel(\"Iteration\"); plt.ylabel(\"Cost\"); plt.title(\"VQE convergence\"); plt.grid(True)\n",
    "plt.show()"
   ]
  },
  {
   "cell_type": "code",
   "execution_count": null,
   "id": "1f67dd12",
   "metadata": {},
   "outputs": [],
   "source": [
    "# Results\n",
    "print(\"Optimized weights:\")\n",
    "for t, w in zip(tickers, w_opt):\n",
    "    print(f\"{t}: {float(w)*100:.2f}%\")"
   ]
  },
  {
   "cell_type": "code",
   "execution_count": null,
   "id": "a5b45658",
   "metadata": {},
   "outputs": [],
   "source": [
    "# Bar plot\n",
    "plt.figure()\n",
    "plt.bar(tickers, w_opt)\n",
    "plt.ylabel(\"Weight\"); plt.ylim(0,1); plt.title(\"Fractional VQE allocation\"); plt.grid(axis=\"y\")\n",
    "plt.show()"
   ]
  },
  {
   "cell_type": "code",
   "execution_count": null,
   "id": "130f6c8e",
   "metadata": {},
   "outputs": [],
   "source": [
    "# Pie chart\n",
    "plt.figure(figsize=(6,6))\n",
    "plt.pie(w_opt, labels=tickers, autopct=\"%1.1f%%\", startangle=140)\n",
    "plt.title(\"Portfolio composition\"); plt.axis(\"equal\"); plt.show()"
   ]
  }
 ],
 "metadata": {
  "kernelspec": {
   "display_name": "Python 3",
   "language": "python",
   "name": "python3"
  },
  "language_info": {
   "codemirror_mode": {
    "name": "ipython",
    "version": 3
   },
   "file_extension": ".py",
   "mimetype": "text/x-python",
   "name": "python",
   "nbconvert_exporter": "python",
   "pygments_lexer": "ipython3",
   "version": "3.12.1"
  }
 },
 "nbformat": 4,
 "nbformat_minor": 5
}
