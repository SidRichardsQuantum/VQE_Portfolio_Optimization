{
 "cells": [
  {
   "cell_type": "markdown",
   "id": "d0de0624",
   "metadata": {},
   "source": [
    "# Fractional VQE Portfolio Optimization\n",
    "\n",
    "This notebook implements a **fractional-weight formulation** of the portfolio optimization problem using a **Variational Quantum Eigensolver**.\n",
    "\n",
    "### Contents\n",
    "\n",
    "1. **Problem Setup**\n",
    "   - Expected returns vector $μ$\n",
    "   - Covariance matrix $Σ$\n",
    "   - Risk-aversion parameter $λ$\n",
    "\n",
    "2. **Quantum Ansatz**\n",
    "   - Hardware-efficient $R_Y$ rotations (one per asset)\n",
    "   - $⟨Z⟩$ expectation mapped to fractional weights\n",
    "\n",
    "3. **Cost Function**\n",
    "   - Mean–variance objective: $−μᵀw + λ wᵀΣw$\n",
    "   - Soft constraints for $Σw=1$ and $w ≥ 0$\n",
    "\n",
    "4. **Optimization**\n",
    "   - PennyLane `AdamOptimizer` with autograd\n",
    "   - Track cost convergence across iterations\n",
    "    \n",
    "5. **Results & Visualization**\n",
    "   - Optimized weights\n",
    "   - Bar chart and pie chart of allocation\n",
    "   - Convergence plot\n",
    "\n",
    "### Notes\n",
    "\n",
    "- Ansatz is single-layer $R_Y$; extend with entanglers or depth for more expressivity\n",
    "- Penalty scaling is data-driven\n",
    "- Use different seeds or $λ$ values to test robustness"
   ]
  },
  {
   "cell_type": "code",
   "execution_count": null,
   "id": "7243e235",
   "metadata": {},
   "outputs": [],
   "source": [
    "import pennylane as qml\n",
    "from pennylane import numpy as np\n",
    "import matplotlib.pyplot as plt\n",
    "from pennylane import draw_mpl\n",
    "\n",
    "np.random.seed(0)"
   ]
  },
  {
   "cell_type": "code",
   "execution_count": null,
   "id": "b1f7fd71",
   "metadata": {},
   "outputs": [],
   "source": [
    "# Problem setup\n",
    "mu = np.array([0.10, 0.20, 0.15, 0.12], requires_grad=False)  # Expected returns\n",
    "Sigma = np.array([\n",
    "    [0.005, -0.010, 0.004, -0.002],\n",
    "    [-0.010, 0.040, -0.002, 0.004],\n",
    "    [0.004, -0.002, 0.023, 0.002],\n",
    "    [-0.002, 0.004, 0.002, 0.018]\n",
    "], requires_grad=False)\n",
    "\n",
    "n_assets = len(mu)\n",
    "lam = 0.5  # Risk aversion parameter"
   ]
  },
  {
   "cell_type": "code",
   "execution_count": null,
   "id": "720b5674",
   "metadata": {},
   "outputs": [],
   "source": [
    "dev = qml.device(\"default.qubit\", wires=n_assets, shots=None)\n",
    "\n",
    "@qml.qnode(dev, interface=\"autograd\")\n",
    "def qnode(thetas):\n",
    "    # Hardware-efficient R_Y layer\n",
    "    for i in range(n_assets):\n",
    "        qml.RY(thetas[i], wires=i)\n",
    "\n",
    "    # Return ⟨Z⟩ for each qubit\n",
    "    return [qml.expval(qml.PauliZ(i)) for i in range(n_assets)]\n",
    "\n",
    "def angles_to_weights(thetas):\n",
    "    # From ⟨Z⟩ to probability of |1⟩\n",
    "    z = qml.math.stack(qnode(thetas))\n",
    "    w = (1.0 - z) * 0.5  # In [0,1]\n",
    "\n",
    "    # Soft simplex projection via normalization\n",
    "    s = qml.math.sum(w)\n",
    "    return w / (s + 1e-12), z\n",
    "\n",
    "def scaled_penalty(mu, Sigma):\n",
    "    # Scale penalties to objective magnitude\n",
    "    ret_scale = float(np.sum(np.abs(mu)))\n",
    "    risk_scale = float(np.trace(Sigma))\n",
    "    base = max(ret_scale, risk_scale, 1e-3)\n",
    "    return 50.0 * base, 10.0 * base\n",
    "\n",
    "def objective(thetas):\n",
    "    w, _ = angles_to_weights(thetas)\n",
    "    expected_return = qml.math.dot(mu, w)\n",
    "    risk = qml.math.dot(w, qml.math.dot(Sigma, w))\n",
    "\n",
    "    # Soft constraints\n",
    "    p_sum, p_neg = scaled_penalty(mu, Sigma)\n",
    "    c_sum = p_sum * (qml.math.sum(w) - 1.0) ** 2\n",
    "    c_neg = p_neg * qml.math.sum(qml.math.maximum(-w, 0.0))  # Barrier if any w<0 (rare but safe)\n",
    "    return -(expected_return) + lam * risk + c_sum + c_neg\n",
    "\n",
    "# Draw the circuit\n",
    "sample_thetas = np.linspace(0, np.pi, n_assets)\n",
    "fig, ax = draw_mpl(qnode)(sample_thetas)\n",
    "fig.suptitle(\"Fractional Ansatz Circuit (RY encoding)\", fontsize=14)\n",
    "plt.show()"
   ]
  },
  {
   "cell_type": "code",
   "execution_count": null,
   "id": "3b26bf4d",
   "metadata": {},
   "outputs": [],
   "source": [
    "# Optimize\n",
    "thetas = np.array(np.random.uniform(0, np.pi, n_assets), requires_grad=True)\n",
    "opt = qml.AdamOptimizer(stepsize=0.3)\n",
    "steps = 75\n",
    "history = []\n",
    "\n",
    "for t in range(steps):\n",
    "    thetas, cost = opt.step_and_cost(objective, thetas)\n",
    "    if (t+1) % 5 == 0:\n",
    "        w, z = angles_to_weights(thetas)\n",
    "        history.append(float(cost))\n",
    "        print(f\"step {t+1:03d}  cost={float(cost):.6f}  sum(w)={float(np.sum(w)):.4f}\")"
   ]
  },
  {
   "cell_type": "code",
   "execution_count": null,
   "id": "324c841a",
   "metadata": {},
   "outputs": [],
   "source": [
    "# Convergence plot\n",
    "plt.figure()\n",
    "plt.plot(range(5, steps+1, 5), history)\n",
    "plt.xlabel(\"Iteration\")\n",
    "plt.ylabel(\"Cost\")\n",
    "plt.title(\"VQE convergence\")\n",
    "plt.grid(True)\n",
    "plt.show()"
   ]
  },
  {
   "cell_type": "code",
   "execution_count": null,
   "id": "a83c510c",
   "metadata": {},
   "outputs": [],
   "source": [
    "# Results\n",
    "w_opt, _ = angles_to_weights(thetas)\n",
    "w_opt = w_opt / (np.sum(w_opt) + 1e-12)\n",
    "\n",
    "print(\"\\nOptimized allocation\")\n",
    "for i, w in enumerate(w_opt):\n",
    "    print(f\"Asset {i+1}: {float(w)*100:.2f}%\")"
   ]
  },
  {
   "cell_type": "code",
   "execution_count": null,
   "id": "13022c4d",
   "metadata": {},
   "outputs": [],
   "source": [
    "# Bar chart\n",
    "plt.figure()\n",
    "plt.bar([f\"Asset {i+1}\" for i in range(n_assets)], w_opt)\n",
    "plt.ylabel(\"Weight\")\n",
    "plt.ylim(0, 1)\n",
    "plt.title(\"Fractional VQE allocation\")\n",
    "plt.grid(axis=\"y\")\n",
    "plt.show()"
   ]
  },
  {
   "cell_type": "code",
   "execution_count": null,
   "id": "307c38f2",
   "metadata": {},
   "outputs": [],
   "source": [
    "# Pie chart\n",
    "plt.figure(figsize=(6,6))\n",
    "plt.pie(w_opt, labels=[f\"Asset {i+1}\" for i in range(n_assets)], autopct=\"%1.1f%%\", startangle=140)\n",
    "plt.title(\"Fractional VQE Pie\")\n",
    "plt.axis(\"equal\")\n",
    "plt.show()"
   ]
  }
 ],
 "metadata": {
  "kernelspec": {
   "display_name": "Python 3",
   "language": "python",
   "name": "python3"
  },
  "language_info": {
   "codemirror_mode": {
    "name": "ipython",
    "version": 3
   },
   "file_extension": ".py",
   "mimetype": "text/x-python",
   "name": "python",
   "nbconvert_exporter": "python",
   "pygments_lexer": "ipython3",
   "version": "3.12.1"
  }
 },
 "nbformat": 4,
 "nbformat_minor": 5
}
