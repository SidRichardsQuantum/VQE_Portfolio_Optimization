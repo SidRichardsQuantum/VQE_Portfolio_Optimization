{
 "cells": [
  {
   "cell_type": "code",
   "execution_count": null,
   "id": "81fe2deb",
   "metadata": {},
   "outputs": [],
   "source": [
    "import pennylane as qml\n",
    "from pennylane import numpy as np\n",
    "# import networkx as nx\n",
    "from pennylane.optimize import AdamOptimizer\n",
    "import pandas as pd"
   ]
  },
  {
   "cell_type": "code",
   "execution_count": null,
   "id": "1c047da8",
   "metadata": {},
   "outputs": [],
   "source": [
    "n_assets = 4  # Number of assets\n",
    "q = 0.5  # Risk aversion parameter\n",
    "budget = 2\n",
    "\n",
    "# Vector of expected returns\n",
    "mu = np.array([0.10, 0.20, 0.15, 0.12])\n",
    "\n",
    "# Covariance matrix of returns\n",
    "Sigma = np.array([\n",
    "    [0.005, -0.010, 0.004, -0.002],\n",
    "    [-0.010, 0.040, -0.002, 0.004],\n",
    "    [0.004, -0.002, 0.023, 0.002],\n",
    "    [-0.002, 0.004, 0.002, 0.018]\n",
    "])"
   ]
  },
  {
   "cell_type": "code",
   "execution_count": null,
   "id": "e1f830b0",
   "metadata": {},
   "outputs": [],
   "source": [
    "# Construct QUBO Hamiltonian\n",
    "def build_portfolio_hamiltonian(mu, Sigma, q, budget):\n",
    "    n = len(mu)\n",
    "    coeffs = []\n",
    "    observables = []\n",
    "\n",
    "    # Expected return (maximize => minimize negative)\n",
    "    for i in range(n):\n",
    "        coeffs.append(-mu[i])\n",
    "        observables.append(qml.PauliZ(i))\n",
    "\n",
    "    # Risk term\n",
    "    for i in range(n):\n",
    "        for j in range(i+1, n):\n",
    "            coeffs.append(q * Sigma[i, j])\n",
    "            observables.append(qml.PauliZ(i) @ qml.PauliZ(j))\n",
    "\n",
    "    # Budget constraint penalty\n",
    "    penalty = 30  # change this to tune constraint strength\n",
    "    for i in range(n):\n",
    "        for j in range(i+1, n):\n",
    "            coeffs.append(penalty)\n",
    "            observables.append(qml.PauliZ(i) @ qml.PauliZ(j))\n",
    "\n",
    "    return qml.Hamiltonian(coeffs, observables)\n",
    "\n",
    "H = build_portfolio_hamiltonian(mu, Sigma, q, budget)\n",
    "print(H)"
   ]
  },
  {
   "cell_type": "code",
   "execution_count": null,
   "id": "4462c052",
   "metadata": {},
   "outputs": [],
   "source": [
    "# Create VQE circuit\n",
    "dev = qml.device(\"default.qubit\", wires=n_assets, shots=100)\n",
    "@qml.qnode(dev)\n",
    "def circuit(params):\n",
    "    qml.templates.StronglyEntanglingLayers(params, wires=range(n_assets))\n",
    "    return qml.expval(H)"
   ]
  },
  {
   "cell_type": "code",
   "execution_count": null,
   "id": "380add97",
   "metadata": {},
   "outputs": [],
   "source": [
    "# Optimize the parameters\n",
    "params = np.random.randn(3, n_assets, 3, requires_grad=True)\n",
    "opt = AdamOptimizer(stepsize=0.1)\n",
    "\n",
    "steps = 25\n",
    "for i in range(steps):\n",
    "    params = opt.step(circuit, params)\n",
    "    if i % 10 == 0:\n",
    "        print(f\"Step {i}, Cost = {circuit(params):.4f}\")"
   ]
  },
  {
   "cell_type": "code",
   "execution_count": null,
   "id": "75b396e4",
   "metadata": {},
   "outputs": [],
   "source": [
    "# Measure and interpret result\n",
    "@qml.qnode(dev)\n",
    "def final_circuit():\n",
    "    qml.templates.StronglyEntanglingLayers(params, wires=range(n_assets))\n",
    "    return [qml.sample(qml.PauliZ(i)) for i in range(n_assets)]\n",
    "\n",
    "result = final_circuit()\n",
    "portfolio = (1 - np.array(result)) // 2\n",
    "print(\"Optimal Portfolio:\", portfolio)"
   ]
  },
  {
   "cell_type": "code",
   "execution_count": null,
   "id": "fcf6d4b9",
   "metadata": {},
   "outputs": [],
   "source": [
    "# Convert arrays to strings for grouping\n",
    "portfolio_strings = [''.join(map(str, row.astype(int))) for row in portfolio]\n",
    "counts = pd.Series(portfolio_strings).value_counts()\n",
    "\n",
    "print(counts.head(10))  # Most frequent portfolios"
   ]
  },
  {
   "cell_type": "code",
   "execution_count": null,
   "id": "f3bc4e37",
   "metadata": {},
   "outputs": [],
   "source": [
    "valid = [sum(row) == budget for row in portfolio]\n",
    "print(f\"Valid portfolios: {sum(valid)}/{len(portfolio)}\")"
   ]
  }
 ],
 "metadata": {
  "kernelspec": {
   "display_name": "Python 3",
   "language": "python",
   "name": "python3"
  },
  "language_info": {
   "codemirror_mode": {
    "name": "ipython",
    "version": 3
   },
   "file_extension": ".py",
   "mimetype": "text/x-python",
   "name": "python",
   "nbconvert_exporter": "python",
   "pygments_lexer": "ipython3",
   "version": "3.12.1"
  }
 },
 "nbformat": 4,
 "nbformat_minor": 5
}
